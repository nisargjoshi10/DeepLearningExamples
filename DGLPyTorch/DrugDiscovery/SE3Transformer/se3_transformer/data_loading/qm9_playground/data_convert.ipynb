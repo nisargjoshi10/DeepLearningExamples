{
 "cells": [
  {
   "cell_type": "code",
   "execution_count": 1,
   "id": "c0c0f64c",
   "metadata": {},
   "outputs": [
    {
     "name": "stderr",
     "output_type": "stream",
     "text": [
      "Using backend: pytorch[16:39:45] /tmp/dgl_src/src/runtime/tensordispatch.cc:43: TensorDispatcher: dlopen failed: dlopen(/Users/nisarg/opt/anaconda3/envs/se3_transformer/lib/python3.9/site-packages/dgl/tensoradapter/pytorch/libtensoradapter_pytorch_1.10.2.dylib, 1): image not found\n",
      "\n"
     ]
    }
   ],
   "source": [
    "import dgl\n",
    "import pathlib\n",
    "import os\n",
    "import numpy as np\n",
    "from dgl.data import DGLDataset\n",
    "from dgl.data.utils import download, extract_archive, _get_dgl_url\n",
    "from dgl.convert import graph as dgl_graph\n",
    "from dgl import backend as F\n",
    "\n",
    "''' rkdit package for processing moleculars '''\n",
    "import rdkit\n",
    "from rdkit import Chem\n",
    "from rdkit.Chem.rdchem import HybridizationType\n",
    "from rdkit.Chem.rdchem import BondType as BT\n",
    "from rdkit import RDLogger\n",
    "\n",
    "RDLogger.DisableLog('rdApp.*')"
   ]
  },
  {
   "cell_type": "code",
   "execution_count": 2,
   "id": "57c88034",
   "metadata": {},
   "outputs": [],
   "source": [
    "HAR2EV = 27.2113825435      # 1 Hartree = 27.2114 eV \n",
    "KCALMOL2EV = 0.04336414     # 1 kcal/mol = 0.043363 eV\n",
    "conversion = F.tensor([\n",
    "    1., 1., HAR2EV, HAR2EV, HAR2EV, 1., HAR2EV, HAR2EV, HAR2EV, HAR2EV, HAR2EV,\n",
    "    1., KCALMOL2EV, KCALMOL2EV, KCALMOL2EV, KCALMOL2EV, 1., 1., 1.\n",
    "])\n"
   ]
  },
  {
   "cell_type": "code",
   "execution_count": 3,
   "id": "519380e1",
   "metadata": {},
   "outputs": [],
   "source": [
    "raw_dir = 'data'\n",
    "raw_url = 'https://deepchemdata.s3-us-west-1.amazonaws.com/datasets/molnet_publish/qm9.zip'\n",
    "raw_url2 = 'https://ndownloader.figshare.com/files/3195404'"
   ]
  },
  {
   "cell_type": "code",
   "execution_count": 4,
   "id": "501de2a8",
   "metadata": {},
   "outputs": [],
   "source": [
    "keys = ['mu', 'alpha', 'homo', 'lumo', 'gap', 'r2', 'zpve', 'U0', 'U', 'H', 'G', 'Cv', 'U0_atom',\n",
    "            'U_atom', 'H_atom', 'G_atom', 'A', 'B', 'C']"
   ]
  },
  {
   "cell_type": "code",
   "execution_count": 5,
   "id": "382742f9",
   "metadata": {},
   "outputs": [],
   "source": [
    "types = {'H': 0, 'C': 1, 'N': 2, 'O': 3, 'F': 4}"
   ]
  },
  {
   "cell_type": "code",
   "execution_count": 6,
   "id": "d9a5a9eb",
   "metadata": {},
   "outputs": [],
   "source": [
    "bonds = {BT.SINGLE: 0, BT.DOUBLE: 1, BT.TRIPLE: 2, BT.AROMATIC: 3}"
   ]
  },
  {
   "cell_type": "code",
   "execution_count": 7,
   "id": "d15beee2",
   "metadata": {},
   "outputs": [],
   "source": [
    "if not os.path.exists(f'{raw_dir}/gdb9.sdf.csv'):\n",
    "    file_path = download(raw_url, raw_dir)\n",
    "    extract_archive(file_path, raw_dir, overwrite=True)\n",
    "    os.unlink(file_path)"
   ]
  },
  {
   "cell_type": "code",
   "execution_count": 15,
   "id": "abbcc82c",
   "metadata": {},
   "outputs": [
    {
     "name": "stdout",
     "output_type": "stream",
     "text": [
      "Downloading data/3195404 from https://ndownloader.figshare.com/files/3195404...\n"
     ]
    }
   ],
   "source": [
    "if not os.path.exists(f'{raw_dir}/uncharacterized.txt'):\n",
    "    file_path = download(raw_url2, raw_dir)\n",
    "    os.replace(f'{raw_dir}/3195404', f'{raw_dir}/uncharacterized.txt')"
   ]
  },
  {
   "cell_type": "code",
   "execution_count": 20,
   "id": "2719578f-8254-4c95-9349-fac889055159",
   "metadata": {},
   "outputs": [],
   "source": [
    "with open(f'{raw_dir}/gdb9.sdf.csv', 'r') as f:\n",
    "    target = f.read().split('\\n')[1:-1]"
   ]
  },
  {
   "cell_type": "code",
   "execution_count": 23,
   "id": "8a466810-af2f-4b00-b12e-4a21a404a365",
   "metadata": {},
   "outputs": [
    {
     "data": {
      "text/plain": [
       "'gdb_1,157.7118,157.70997,157.70699,0,13.21,-0.3877,0.1171,0.5048,35.3641,0.044749,-40.47893,-40.476062,-40.475117,-40.498597,6.469,-395.999594594,-398.643290011,-401.014646522,-372.471772148'"
      ]
     },
     "execution_count": 23,
     "metadata": {},
     "output_type": "execute_result"
    }
   ],
   "source": [
    "target[0]"
   ]
  },
  {
   "cell_type": "code",
   "execution_count": 24,
   "id": "1b7976fc-1db5-44cb-8a9e-b509b64f5f52",
   "metadata": {},
   "outputs": [],
   "source": [
    "target = [[float(x) for x in line.split(',')[1:20]] for line in target]"
   ]
  },
  {
   "cell_type": "code",
   "execution_count": 27,
   "id": "6720a57f-69a6-42ab-8b30-2bfdd391a164",
   "metadata": {},
   "outputs": [],
   "source": [
    "target = F.tensor(target, dtype=F.data_type_dict['float32'])"
   ]
  },
  {
   "cell_type": "code",
   "execution_count": 29,
   "id": "b8ea234a-cb57-437c-8f30-f866c02e7859",
   "metadata": {},
   "outputs": [],
   "source": [
    "target = F.cat([target[:, 3:], target[:, :3]], dim=-1)"
   ]
  },
  {
   "cell_type": "code",
   "execution_count": 37,
   "id": "6a8de919-b313-430a-a1c7-ea12595c4019",
   "metadata": {},
   "outputs": [],
   "source": [
    "target = (target * conversion.view(1, -1)).tolist()"
   ]
  },
  {
   "cell_type": "code",
   "execution_count": 48,
   "id": "ef982143-3de3-4709-abdd-983f08b31d49",
   "metadata": {},
   "outputs": [],
   "source": [
    "with open(f'{raw_dir}/uncharacterized.txt', 'r') as f:\n",
    "        skip = [int(x.split()[0]) - 1 for x in f.read().split('\\n')[9:-2]]"
   ]
  },
  {
   "cell_type": "code",
   "execution_count": 50,
   "id": "75ec687b-e255-4b53-b7b3-c67a93ac346b",
   "metadata": {},
   "outputs": [],
   "source": [
    "suppl = Chem.SDMolSupplier(f'{raw_dir}/gdb9.sdf', removeHs=False, sanitize=False)"
   ]
  },
  {
   "cell_type": "code",
   "execution_count": 56,
   "id": "6c336b0a-5252-4d68-b042-835c4bb5d2c4",
   "metadata": {},
   "outputs": [],
   "source": [
    "n_node = []\n",
    "n_edge = []\n",
    "node_pos = []\n",
    "node_attr = []\n",
    "\n",
    "src = []\n",
    "dst = []\n",
    "\n",
    "edge_attr = []\n",
    "targets = []"
   ]
  },
  {
   "cell_type": "code",
   "execution_count": 66,
   "id": "441541e5-ba0f-4329-b903-3640949b4d60",
   "metadata": {},
   "outputs": [
    {
     "data": {
      "image/png": "[encoded data removed]",
      "text/plain": [
       "<rdkit.Chem.rdchem.Mol at 0x150bd6b20>"
      ]
     },
     "execution_count": 66,
     "metadata": {},
     "output_type": "execute_result"
    }
   ],
   "source": [
    "suppl[1]"
   ]
  },
  {
   "cell_type": "code",
   "execution_count": 67,
   "id": "4b8634cc-38d8-423c-afba-1a42ddef345b",
   "metadata": {},
   "outputs": [
    {
     "data": {
      "text/plain": [
       "4"
      ]
     },
     "execution_count": 67,
     "metadata": {},
     "output_type": "execute_result"
    }
   ],
   "source": [
    "suppl[1].GetNumAtoms()"
   ]
  },
  {
   "cell_type": "code",
   "execution_count": 69,
   "id": "676f0c7e-fe02-4025-9132-9407d812cc61",
   "metadata": {},
   "outputs": [
    {
     "data": {
      "text/plain": [
       "'gdb_2\\n  -OEChem-03231823233D\\n\\n  4  3  0     0  0  0  0  0  0999 V2000\\n   -0.0404    1.0241    0.0626 N   0  0  0  0  0  0  0  0  0  0  0  0\\n    0.0173    0.0125   -0.0274 H   0  0  0  0  0  0  0  0  0  0  0  0\\n    0.9158    1.3587   -0.0288 H   0  0  0  0  0  0  0  0  0  0  0  0\\n   -0.5203    1.3435   -0.7755 H   0  0  0  0  0  0  0  0  0  0  0  0\\n  1  2  1  0  0  0  0\\n  1  3  1  0  0  0  0\\n  1  4  1  0  0  0  0\\nM  END\\n$$$$\\n'"
      ]
     },
     "execution_count": 69,
     "metadata": {},
     "output_type": "execute_result"
    }
   ],
   "source": [
    "suppl.GetItemText(1)"
   ]
  },
  {
   "cell_type": "code",
   "execution_count": 71,
   "id": "25472a16-8396-4c42-96b2-3b29b95629f7",
   "metadata": {},
   "outputs": [],
   "source": [
    "pos = suppl.GetItemText(1).split('\\n')[4:4 + 4]"
   ]
  },
  {
   "cell_type": "code",
   "execution_count": 72,
   "id": "da150508-0d95-4240-9ed7-31fc6d161838",
   "metadata": {},
   "outputs": [
    {
     "data": {
      "text/plain": [
       "['   -0.0404    1.0241    0.0626 N   0  0  0  0  0  0  0  0  0  0  0  0',\n",
       " '    0.0173    0.0125   -0.0274 H   0  0  0  0  0  0  0  0  0  0  0  0',\n",
       " '    0.9158    1.3587   -0.0288 H   0  0  0  0  0  0  0  0  0  0  0  0',\n",
       " '   -0.5203    1.3435   -0.7755 H   0  0  0  0  0  0  0  0  0  0  0  0']"
      ]
     },
     "execution_count": 72,
     "metadata": {},
     "output_type": "execute_result"
    }
   ],
   "source": [
    "pos"
   ]
  },
  {
   "cell_type": "code",
   "execution_count": 73,
   "id": "38ca6208-603e-4ef7-b17c-fefd9be204e6",
   "metadata": {},
   "outputs": [],
   "source": [
    "pos = [[float(x) for x in line.split()[:3]] for line in pos]"
   ]
  },
  {
   "cell_type": "code",
   "execution_count": 74,
   "id": "9bfb0d6c-67d9-480c-928a-5720fa699075",
   "metadata": {},
   "outputs": [
    {
     "data": {
      "text/plain": [
       "[[-0.0404, 1.0241, 0.0626],\n",
       " [0.0173, 0.0125, -0.0274],\n",
       " [0.9158, 1.3587, -0.0288],\n",
       " [-0.5203, 1.3435, -0.7755]]"
      ]
     },
     "execution_count": 74,
     "metadata": {},
     "output_type": "execute_result"
    }
   ],
   "source": [
    "pos"
   ]
  },
  {
   "cell_type": "code",
   "execution_count": 76,
   "id": "98eba8d2-4644-4c3b-b0b1-ff9fbc34c559",
   "metadata": {},
   "outputs": [
    {
     "data": {
      "text/plain": [
       "4"
      ]
     },
     "execution_count": 76,
     "metadata": {},
     "output_type": "execute_result"
    }
   ],
   "source": [
    "len(suppl[1].GetAtoms())"
   ]
  },
  {
   "cell_type": "code",
   "execution_count": 90,
   "id": "0014fcaf-0bc2-49ce-a24f-8f7517e1fb4b",
   "metadata": {},
   "outputs": [],
   "source": [
    "row, col, edge_type = [], [], []\n",
    "for bond in suppl[1].GetBonds():\n",
    "    start, end = bond.GetBeginAtomIdx(), bond.GetEndAtomIdx()\n",
    "    row += [start, end]\n",
    "    col += [end, start]\n",
    "    edge_type += 2 * [bonds[bond.GetBondType()]]"
   ]
  },
  {
   "cell_type": "code",
   "execution_count": 91,
   "id": "38efa5f2-0649-4b39-a946-671defd5ceea",
   "metadata": {},
   "outputs": [
    {
     "data": {
      "text/plain": [
       "[0, 1, 0, 2, 0, 3]"
      ]
     },
     "execution_count": 91,
     "metadata": {},
     "output_type": "execute_result"
    }
   ],
   "source": [
    "row"
   ]
  },
  {
   "cell_type": "code",
   "execution_count": 92,
   "id": "117b59e3-e5d1-464f-aa76-0b44a4248884",
   "metadata": {},
   "outputs": [
    {
     "data": {
      "text/plain": [
       "[1, 0, 2, 0, 3, 0]"
      ]
     },
     "execution_count": 92,
     "metadata": {},
     "output_type": "execute_result"
    }
   ],
   "source": [
    "col"
   ]
  },
  {
   "cell_type": "code",
   "execution_count": 93,
   "id": "b642b227-4730-42e0-a03f-ecb48191ca13",
   "metadata": {},
   "outputs": [
    {
     "data": {
      "text/plain": [
       "[0, 0, 0, 0, 0, 0]"
      ]
     },
     "execution_count": 93,
     "metadata": {},
     "output_type": "execute_result"
    }
   ],
   "source": [
    "edge_type"
   ]
  },
  {
   "cell_type": "code",
   "execution_count": 94,
   "id": "60cfd710-5912-4ea3-9370-7f0664a42436",
   "metadata": {},
   "outputs": [],
   "source": [
    "edge_index = np.array([row, col]).astype(np.int64)\n",
    "edge_type = np.array(edge_type).astype(np.int64)\n",
    "edge_feat = np.eye(len(bonds))[edge_type]"
   ]
  },
  {
   "cell_type": "code",
   "execution_count": 95,
   "id": "baa2e4d1-5f00-483b-b936-848d415441d3",
   "metadata": {},
   "outputs": [
    {
     "data": {
      "text/plain": [
       "array([[0, 1, 0, 2, 0, 3],\n",
       "       [1, 0, 2, 0, 3, 0]])"
      ]
     },
     "execution_count": 95,
     "metadata": {},
     "output_type": "execute_result"
    }
   ],
   "source": [
    "edge_index"
   ]
  },
  {
   "cell_type": "code",
   "execution_count": 97,
   "id": "c9a3b6be-958f-4a14-916b-834bcc163c00",
   "metadata": {},
   "outputs": [
    {
     "data": {
      "text/plain": [
       "array([[1., 0., 0., 0.],\n",
       "       [1., 0., 0., 0.],\n",
       "       [1., 0., 0., 0.],\n",
       "       [1., 0., 0., 0.],\n",
       "       [1., 0., 0., 0.],\n",
       "       [1., 0., 0., 0.]])"
      ]
     },
     "execution_count": 97,
     "metadata": {},
     "output_type": "execute_result"
    }
   ],
   "source": [
    "edge_feat"
   ]
  },
  {
   "cell_type": "code",
   "execution_count": 98,
   "id": "11624ddc-db11-49d6-9b89-6fd15bb7e8d1",
   "metadata": {},
   "outputs": [],
   "source": [
    "perm = (edge_index[0] * n_atom + edge_index[1]).argsort()\n",
    "edge_index = edge_index[:, perm]\n",
    "edge_feat = edge_feat[perm]"
   ]
  },
  {
   "cell_type": "code",
   "execution_count": 99,
   "id": "a6f168b6-4463-4a4d-b831-190998b2ecd4",
   "metadata": {},
   "outputs": [
    {
     "data": {
      "text/plain": [
       "array([0, 2, 4, 1, 3, 5])"
      ]
     },
     "execution_count": 99,
     "metadata": {},
     "output_type": "execute_result"
    }
   ],
   "source": [
    "perm"
   ]
  },
  {
   "cell_type": "code",
   "execution_count": 101,
   "id": "4ab91a71-6b1e-4208-bcd9-0a81afe2e000",
   "metadata": {},
   "outputs": [
    {
     "data": {
      "text/plain": [
       "array([[1., 0., 0., 0.],\n",
       "       [1., 0., 0., 0.],\n",
       "       [1., 0., 0., 0.],\n",
       "       [1., 0., 0., 0.],\n",
       "       [1., 0., 0., 0.],\n",
       "       [1., 0., 0., 0.]])"
      ]
     },
     "execution_count": 101,
     "metadata": {},
     "output_type": "execute_result"
    }
   ],
   "source": [
    "edge_feat"
   ]
  },
  {
   "cell_type": "code",
   "execution_count": null,
   "id": "414a3369-f635-4db8-b1a3-a7134a319396",
   "metadata": {},
   "outputs": [],
   "source": []
  }
 ],
 "metadata": {
  "kernelspec": {
   "display_name": "Python 3 (ipykernel)",
   "language": "python",
   "name": "python3"
  },
  "language_info": {
   "codemirror_mode": {
    "name": "ipython",
    "version": 3
   },
   "file_extension": ".py",
   "mimetype": "text/x-python",
   "name": "python",
   "nbconvert_exporter": "python",
   "pygments_lexer": "ipython3",
   "version": "3.9.7"
  }
 },
 "nbformat": 4,
 "nbformat_minor": 5
}
